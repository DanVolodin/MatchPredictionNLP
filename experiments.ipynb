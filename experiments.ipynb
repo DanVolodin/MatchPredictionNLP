{
 "cells": [
  {
   "cell_type": "code",
   "execution_count": 3,
   "metadata": {
    "collapsed": true
   },
   "outputs": [
    {
     "name": "stderr",
     "output_type": "stream",
     "text": [
      "[nltk_data] Downloading package punkt to\n",
      "[nltk_data]     C:\\Users\\volod\\AppData\\Roaming\\nltk_data...\n",
      "[nltk_data]   Package punkt is already up-to-date!\n",
      "[nltk_data] Downloading package stopwords to\n",
      "[nltk_data]     C:\\Users\\volod\\AppData\\Roaming\\nltk_data...\n",
      "[nltk_data]   Package stopwords is already up-to-date!\n",
      "[nltk_data] Downloading package wordnet to\n",
      "[nltk_data]     C:\\Users\\volod\\AppData\\Roaming\\nltk_data...\n",
      "[nltk_data]   Package wordnet is already up-to-date!\n"
     ]
    },
    {
     "data": {
      "text/plain": "True"
     },
     "execution_count": 3,
     "metadata": {},
     "output_type": "execute_result"
    }
   ],
   "source": [
    "import nltk\n",
    "import numpy as np\n",
    "\n",
    "import feature_engineering as f_eng\n",
    "import data_splitting as d_spl\n",
    "import models as md\n",
    "import variables as var\n",
    "\n",
    "nltk.download('punkt')\n",
    "nltk.download('stopwords')\n",
    "nltk.download('wordnet')"
   ]
  },
  {
   "cell_type": "code",
   "execution_count": 5,
   "outputs": [],
   "source": [
    "df_data = f_eng.get_ready_data(6)"
   ],
   "metadata": {
    "collapsed": false
   }
  },
  {
   "cell_type": "markdown",
   "source": [
    "## Тестируем на количественных данных"
   ],
   "metadata": {
    "collapsed": false
   }
  },
  {
   "cell_type": "markdown",
   "source": [
    "Распределение классов во всем датасете"
   ],
   "metadata": {
    "collapsed": false
   }
  },
  {
   "cell_type": "code",
   "execution_count": 3,
   "outputs": [
    {
     "data": {
      "text/plain": "H    0.452834\nA    0.303644\nD    0.243522\nName: FTR, dtype: float64"
     },
     "execution_count": 3,
     "metadata": {},
     "output_type": "execute_result"
    }
   ],
   "source": [
    "df_data['FTR'].value_counts() / len(df_data)"
   ],
   "metadata": {
    "collapsed": false
   }
  },
  {
   "cell_type": "markdown",
   "source": [
    "Возьмем датасет с валидными количественными данными и разобьем на train и test в отношении 85 на 15 (так как сетка в дальнейшем обучается на train и validation из суммарно 85% объектов)"
   ],
   "metadata": {
    "collapsed": false
   }
  },
  {
   "cell_type": "code",
   "execution_count": 44,
   "outputs": [
    {
     "name": "stdout",
     "output_type": "stream",
     "text": [
      "Sample sizes:\n",
      "\n",
      "Total: 4155\n",
      "Train sample: 3531, 0.8498194945848375\n",
      "0    0.463325\n",
      "2    0.292552\n",
      "1    0.244123\n",
      "Name: FTR, dtype: float64\n",
      "Validation sample: 0, 0.0\n",
      "Series([], Name: FTR, dtype: float64)\n",
      "Test sample: 624, 0.15018050541516245\n",
      "0    0.451923\n",
      "2    0.317308\n",
      "1    0.230769\n",
      "Name: FTR, dtype: float64\n"
     ]
    }
   ],
   "source": [
    "df_quantitative = d_spl.get_valid_quantitative_dataset(df_data)\n",
    "X_train, X_val, X_test, y_train, y_val, y_test = d_spl.split_data_by_time(df_quantitative, var.columns_features_q, var.column_result, train_q=0.85, valid_q=0)"
   ],
   "metadata": {
    "collapsed": false
   }
  },
  {
   "cell_type": "markdown",
   "source": [
    "Проверим модель, всегда предсказывающую самый частый класс и опирающуюся на эмпирическое распределение"
   ],
   "metadata": {
    "collapsed": false
   }
  },
  {
   "cell_type": "code",
   "execution_count": 8,
   "outputs": [
    {
     "data": {
      "text/plain": "<Figure size 432x288 with 2 Axes>",
      "image/png": "[encoded data removed]"
     },
     "metadata": {
      "needs_background": "light"
     },
     "output_type": "display_data"
    },
    {
     "name": "stdout",
     "output_type": "stream",
     "text": [
      "              precision    recall  f1-score   support\n",
      "\n",
      "    Home Win     0.4519    1.0000    0.6225       282\n",
      "        Draw     0.0000    0.0000    0.0000       144\n",
      "    Away Win     0.0000    0.0000    0.0000       198\n",
      "\n",
      "    accuracy                         0.4519       624\n",
      "   macro avg     0.1506    0.3333    0.2075       624\n",
      "weighted avg     0.2042    0.4519    0.2813       624\n",
      "\n",
      "RPS:  0.4326923076923077\n"
     ]
    }
   ],
   "source": [
    "dc_mf = md.train_dummy_most_frequent(X_train, y_train)\n",
    "md.show_metrics(dc_mf, X_test, y_test)"
   ],
   "metadata": {
    "collapsed": false
   }
  },
  {
   "cell_type": "markdown",
   "source": [
    "Проверим случайный лес с фиксированными гиперпараметрами"
   ],
   "metadata": {
    "collapsed": false
   }
  },
  {
   "cell_type": "code",
   "execution_count": 45,
   "outputs": [
    {
     "data": {
      "text/plain": "<Figure size 432x288 with 2 Axes>",
      "image/png": "[encoded data removed]"
     },
     "metadata": {
      "needs_background": "light"
     },
     "output_type": "display_data"
    },
    {
     "name": "stdout",
     "output_type": "stream",
     "text": [
      "              precision    recall  f1-score   support\n",
      "\n",
      "    Home Win     0.4882    0.5142    0.5009       282\n",
      "        Draw     0.2687    0.2500    0.2590       144\n",
      "    Away Win     0.3782    0.3687    0.3734       198\n",
      "\n",
      "    accuracy                         0.4071       624\n",
      "   macro avg     0.3784    0.3776    0.3778       624\n",
      "weighted avg     0.4027    0.4071    0.4046       624\n",
      "\n",
      "RPS:  0.42788461538461536\n"
     ]
    }
   ],
   "source": [
    "dc_mf = md.train_dummy_stratified(X_train, y_train)\n",
    "md.show_metrics(dc_mf, X_test, y_test)"
   ],
   "metadata": {
    "collapsed": false
   }
  },
  {
   "cell_type": "code",
   "execution_count": 9,
   "outputs": [
    {
     "data": {
      "text/plain": "<Figure size 432x288 with 2 Axes>",
      "image/png": "[encoded data removed]"
     },
     "metadata": {
      "needs_background": "light"
     },
     "output_type": "display_data"
    },
    {
     "name": "stdout",
     "output_type": "stream",
     "text": [
      "              precision    recall  f1-score   support\n",
      "\n",
      "    Home Win     0.5248    0.7518    0.6181       282\n",
      "        Draw     0.2308    0.0417    0.0706       144\n",
      "    Away Win     0.4742    0.4646    0.4694       198\n",
      "\n",
      "    accuracy                         0.4968       624\n",
      "   macro avg     0.4099    0.4194    0.3860       624\n",
      "weighted avg     0.4409    0.4968    0.4446       624\n",
      "\n",
      "RPS:  0.21273998397435898\n"
     ]
    }
   ],
   "source": [
    "basic_rf = md.train_basic_random_forest(X_train, y_train)\n",
    "md.show_metrics(basic_rf, X_test, y_test)"
   ],
   "metadata": {
    "collapsed": false
   }
  },
  {
   "cell_type": "markdown",
   "source": [
    "Разобьем данные в отношении 70 : 15 : 15 и протестируем перебор гиперпараметров по сетке"
   ],
   "metadata": {
    "collapsed": false
   }
  },
  {
   "cell_type": "code",
   "execution_count": 12,
   "outputs": [
    {
     "name": "stdout",
     "output_type": "stream",
     "text": [
      "Sample sizes:\n",
      "\n",
      "Total: 4155\n",
      "Train sample: 2907, 0.699638989169675\n",
      "0    0.458548\n",
      "2    0.288958\n",
      "1    0.252494\n",
      "Name: FTR, dtype: float64\n",
      "Validation sample: 624, 0.15018050541516245\n",
      "0    0.485577\n",
      "2    0.309295\n",
      "1    0.205128\n",
      "Name: FTR, dtype: float64\n",
      "Test sample: 624, 0.15018050541516245\n",
      "0    0.451923\n",
      "2    0.317308\n",
      "1    0.230769\n",
      "Name: FTR, dtype: float64\n"
     ]
    }
   ],
   "source": [
    "X_train, X_val, X_test, y_train, y_val, y_test = d_spl.split_data_by_time(df_quantitative, var.columns_features_q, var.column_result, train_q=0.7, valid_q=0.15)"
   ],
   "metadata": {
    "collapsed": false
   }
  },
  {
   "cell_type": "code",
   "execution_count": 16,
   "outputs": [
    {
     "name": "stdout",
     "output_type": "stream",
     "text": [
      "Fitting 1 folds for each of 480 candidates, totalling 480 fits\n"
     ]
    },
    {
     "data": {
      "text/plain": "({'criterion': 'gini',\n  'max_depth': 4,\n  'max_features': 'sqrt',\n  'min_samples_split': 10,\n  'n_estimators': 50},\n 0.5913461538461539)"
     },
     "execution_count": 16,
     "metadata": {},
     "output_type": "execute_result"
    }
   ],
   "source": [
    "param_grid = {\n",
    "    'max_features': ['sqrt', 'log2'],\n",
    "    'criterion': ['gini'],\n",
    "    'max_depth': np.arange(3, 13, 1),\n",
    "    'min_samples_split': [5, 10, 20, 50, 75, 100],\n",
    "    'n_estimators': [50, 100, 150, 200]\n",
    "}\n",
    "grid_rf_search = md.train_rf_grid(X_train, y_train, X_val, y_val, param_grid)\n",
    "grid_rf = grid_rf_search.best_estimator_\n",
    "grid_rf_search.best_params_, grid_rf_search.best_score_"
   ],
   "metadata": {
    "collapsed": false
   }
  },
  {
   "cell_type": "code",
   "execution_count": 17,
   "outputs": [
    {
     "data": {
      "text/plain": "<Figure size 432x288 with 2 Axes>",
      "image/png": "[encoded data removed]"
     },
     "metadata": {
      "needs_background": "light"
     },
     "output_type": "display_data"
    },
    {
     "name": "stdout",
     "output_type": "stream",
     "text": [
      "              precision    recall  f1-score   support\n",
      "\n",
      "    Home Win     0.5452    0.7908    0.6454       282\n",
      "        Draw     0.0000    0.0000    0.0000       144\n",
      "    Away Win     0.4977    0.5404    0.5182       198\n",
      "\n",
      "    accuracy                         0.5288       624\n",
      "   macro avg     0.3476    0.4437    0.3879       624\n",
      "weighted avg     0.4043    0.5288    0.4561       624\n",
      "\n",
      "RPS:  0.2068815216079375\n"
     ]
    }
   ],
   "source": [
    "md.show_metrics(grid_rf, X_test, y_test)"
   ],
   "metadata": {
    "collapsed": false
   }
  },
  {
   "cell_type": "markdown",
   "source": [
    "## Тестируем обучение на превью"
   ],
   "metadata": {
    "collapsed": false
   }
  },
  {
   "cell_type": "markdown",
   "source": [
    "Попробуем лемматизацию"
   ],
   "metadata": {
    "collapsed": false
   }
  },
  {
   "cell_type": "code",
   "execution_count": 18,
   "outputs": [
    {
     "name": "stdout",
     "output_type": "stream",
     "text": [
      "Sample sizes:\n",
      "\n",
      "Total: 3993\n",
      "Train sample: 2791, 0.6989732031054345\n",
      "0    0.442852\n",
      "2    0.300967\n",
      "1    0.256181\n",
      "Name: FTR, dtype: float64\n",
      "Validation sample: 598, 0.14976208364638116\n",
      "0    0.500000\n",
      "2    0.302676\n",
      "1    0.197324\n",
      "Name: FTR, dtype: float64\n",
      "Test sample: 604, 0.15126471324818433\n",
      "0    0.461921\n",
      "2    0.302980\n",
      "1    0.235099\n",
      "Name: FTR, dtype: float64\n"
     ]
    }
   ],
   "source": [
    "df_previews = d_spl.get_valid_preview_dataset(df_data)\n",
    "df_previews = f_eng.lemmatize_df(df_previews)\n",
    "vec = f_eng.create_count_vectorizer(df_previews)\n",
    "X_train, X_val, X_test, y_train, y_val, y_test = d_spl.split_data_by_time_vectorize(df_previews, var.columns_features_pr, var.column_result, vec)"
   ],
   "metadata": {
    "collapsed": false
   }
  },
  {
   "cell_type": "code",
   "execution_count": 20,
   "outputs": [
    {
     "data": {
      "text/plain": "<Figure size 432x288 with 2 Axes>",
      "image/png": "[encoded data removed]"
     },
     "metadata": {
      "needs_background": "light"
     },
     "output_type": "display_data"
    },
    {
     "name": "stdout",
     "output_type": "stream",
     "text": [
      "              precision    recall  f1-score   support\n",
      "\n",
      "    Home Win     0.4929    0.8746    0.6305       279\n",
      "        Draw     0.1818    0.0141    0.0261       142\n",
      "    Away Win     0.4082    0.2186    0.2847       183\n",
      "\n",
      "    accuracy                         0.4735       604\n",
      "   macro avg     0.3610    0.3691    0.3138       604\n",
      "weighted avg     0.3941    0.4735    0.3836       604\n",
      "\n",
      "RPS:  0.22324963931964534\n"
     ]
    }
   ],
   "source": [
    "rf_lemmatizer = md.train_basic_random_forest(X_train, y_train)\n",
    "md.show_metrics(rf_lemmatizer, X_test, y_test)"
   ],
   "metadata": {
    "collapsed": false
   }
  },
  {
   "cell_type": "markdown",
   "source": [
    "Попробуем стемминг"
   ],
   "metadata": {
    "collapsed": false
   }
  },
  {
   "cell_type": "code",
   "execution_count": 21,
   "outputs": [
    {
     "name": "stdout",
     "output_type": "stream",
     "text": [
      "Sample sizes:\n",
      "\n",
      "Total: 3993\n",
      "Train sample: 2791, 0.6989732031054345\n",
      "0    0.442852\n",
      "2    0.300967\n",
      "1    0.256181\n",
      "Name: FTR, dtype: float64\n",
      "Validation sample: 598, 0.14976208364638116\n",
      "0    0.500000\n",
      "2    0.302676\n",
      "1    0.197324\n",
      "Name: FTR, dtype: float64\n",
      "Test sample: 604, 0.15126471324818433\n",
      "0    0.461921\n",
      "2    0.302980\n",
      "1    0.235099\n",
      "Name: FTR, dtype: float64\n"
     ]
    }
   ],
   "source": [
    "df_previews = d_spl.get_valid_preview_dataset(df_data)\n",
    "df_previews = f_eng.stem_df(df_previews)\n",
    "vec = f_eng.create_count_vectorizer(df_previews)\n",
    "X_train, X_val, X_test, y_train, y_val, y_test = d_spl.split_data_by_time_vectorize(df_previews, var.columns_features_pr, var.column_result, vec)"
   ],
   "metadata": {
    "collapsed": false
   }
  },
  {
   "cell_type": "code",
   "execution_count": 22,
   "outputs": [
    {
     "data": {
      "text/plain": "<Figure size 432x288 with 2 Axes>",
      "image/png": "[encoded data removed]"
     },
     "metadata": {
      "needs_background": "light"
     },
     "output_type": "display_data"
    },
    {
     "name": "stdout",
     "output_type": "stream",
     "text": [
      "              precision    recall  f1-score   support\n",
      "\n",
      "    Home Win     0.4896    0.8459    0.6202       279\n",
      "        Draw     0.2143    0.0211    0.0385       142\n",
      "    Away Win     0.3889    0.2295    0.2887       183\n",
      "\n",
      "    accuracy                         0.4652       604\n",
      "   macro avg     0.3643    0.3655    0.3158       604\n",
      "weighted avg     0.3944    0.4652    0.3830       604\n",
      "\n",
      "RPS:  0.22240901303813992\n"
     ]
    }
   ],
   "source": [
    "rf_stemming = md.train_basic_random_forest(X_train, y_train)\n",
    "md.show_metrics(rf_stemming, X_test, y_test)"
   ],
   "metadata": {
    "collapsed": false
   }
  },
  {
   "cell_type": "markdown",
   "source": [
    "Теперь сравним на примере лемматизации перебор по сетки"
   ],
   "metadata": {
    "collapsed": false
   }
  },
  {
   "cell_type": "code",
   "execution_count": 27,
   "outputs": [
    {
     "name": "stdout",
     "output_type": "stream",
     "text": [
      "Sample sizes:\n",
      "\n",
      "Total: 3993\n",
      "Train sample: 3389, 0.8487352867518156\n",
      "0    0.452936\n",
      "2    0.301269\n",
      "1    0.245795\n",
      "Name: FTR, dtype: float64\n",
      "Validation sample: 0, 0.0\n",
      "Series([], Name: FTR, dtype: float64)\n",
      "Test sample: 604, 0.15126471324818433\n",
      "0    0.461921\n",
      "2    0.302980\n",
      "1    0.235099\n",
      "Name: FTR, dtype: float64\n"
     ]
    }
   ],
   "source": [
    "df_previews = d_spl.get_valid_preview_dataset(df_data)\n",
    "df_previews = f_eng.lemmatize_df(df_previews)\n",
    "vec = f_eng.create_count_vectorizer(df_previews)\n",
    "X_train, X_val, X_test, y_train, y_val, y_test = d_spl.split_data_by_time_vectorize(df_previews, var.columns_features_pr, var.column_result, vec, train_q=0.85, valid_q=0)"
   ],
   "metadata": {
    "collapsed": false
   }
  },
  {
   "cell_type": "code",
   "execution_count": 31,
   "outputs": [
    {
     "data": {
      "text/plain": "<Figure size 432x288 with 2 Axes>",
      "image/png": "[encoded data removed]"
     },
     "metadata": {
      "needs_background": "light"
     },
     "output_type": "display_data"
    },
    {
     "name": "stdout",
     "output_type": "stream",
     "text": [
      "              precision    recall  f1-score   support\n",
      "\n",
      "    Home Win     0.5000    0.8710    0.6353       279\n",
      "        Draw     0.2500    0.0211    0.0390       142\n",
      "    Away Win     0.4245    0.2459    0.3114       183\n",
      "\n",
      "    accuracy                         0.4818       604\n",
      "   macro avg     0.3915    0.3793    0.3286       604\n",
      "weighted avg     0.4184    0.4818    0.3970       604\n",
      "\n",
      "RPS:  0.222033797704156\n"
     ]
    }
   ],
   "source": [
    "rf_lemmatizer = md.train_basic_random_forest(X_train, y_train)\n",
    "md.show_metrics(rf_lemmatizer, X_test, y_test)"
   ],
   "metadata": {
    "collapsed": false
   }
  },
  {
   "cell_type": "code",
   "execution_count": 32,
   "outputs": [
    {
     "name": "stdout",
     "output_type": "stream",
     "text": [
      "Sample sizes:\n",
      "\n",
      "Total: 3993\n",
      "Train sample: 2791, 0.6989732031054345\n",
      "0    0.442852\n",
      "2    0.300967\n",
      "1    0.256181\n",
      "Name: FTR, dtype: float64\n",
      "Validation sample: 598, 0.14976208364638116\n",
      "0    0.500000\n",
      "2    0.302676\n",
      "1    0.197324\n",
      "Name: FTR, dtype: float64\n",
      "Test sample: 604, 0.15126471324818433\n",
      "0    0.461921\n",
      "2    0.302980\n",
      "1    0.235099\n",
      "Name: FTR, dtype: float64\n"
     ]
    }
   ],
   "source": [
    "X_train, X_val, X_test, y_train, y_val, y_test = d_spl.split_data_by_time_vectorize(df_previews, var.columns_features_pr, var.column_result, vec, train_q=0.7, valid_q=0.15)"
   ],
   "metadata": {
    "collapsed": false
   }
  },
  {
   "cell_type": "code",
   "execution_count": 34,
   "outputs": [
    {
     "name": "stdout",
     "output_type": "stream",
     "text": [
      "Fitting 1 folds for each of 540 candidates, totalling 540 fits\n"
     ]
    },
    {
     "data": {
      "text/plain": "({'criterion': 'gini',\n  'max_depth': 85,\n  'max_features': 'sqrt',\n  'min_samples_split': 5,\n  'n_estimators': 400},\n 0.5334448160535117)"
     },
     "execution_count": 34,
     "metadata": {},
     "output_type": "execute_result"
    }
   ],
   "source": [
    "param_grid = {\n",
    "    'max_features': ['sqrt'],\n",
    "    'criterion': ['gini'],\n",
    "    'max_depth': np.arange(10, 100, 5),\n",
    "    'min_samples_split': [5, 10, 20, 50, 75, 100],\n",
    "    'n_estimators': [50, 100, 150, 200, 400]\n",
    "}\n",
    "grid_rf_search_pr = md.train_rf_grid(X_train, y_train, X_val, y_val, param_grid)\n",
    "grid_rf_pr = grid_rf_search_pr.best_estimator_\n",
    "grid_rf_search_pr.best_params_, grid_rf_search_pr.best_score_"
   ],
   "metadata": {
    "collapsed": false
   }
  },
  {
   "cell_type": "code",
   "execution_count": 35,
   "outputs": [
    {
     "data": {
      "text/plain": "<Figure size 432x288 with 2 Axes>",
      "image/png": "[encoded data removed]"
     },
     "metadata": {
      "needs_background": "light"
     },
     "output_type": "display_data"
    },
    {
     "name": "stdout",
     "output_type": "stream",
     "text": [
      "              precision    recall  f1-score   support\n",
      "\n",
      "    Home Win     0.4887    0.9283    0.6403       279\n",
      "        Draw     0.0000    0.0000    0.0000       142\n",
      "    Away Win     0.4444    0.1749    0.2510       183\n",
      "\n",
      "    accuracy                         0.4818       604\n",
      "   macro avg     0.3110    0.3677    0.2971       604\n",
      "weighted avg     0.3604    0.4818    0.3718       604\n",
      "\n",
      "RPS:  0.21973888566782732\n"
     ]
    }
   ],
   "source": [
    "md.show_metrics(grid_rf_pr, X_test, y_test)"
   ],
   "metadata": {
    "collapsed": false
   }
  },
  {
   "cell_type": "markdown",
   "source": [
    "## Стекинг"
   ],
   "metadata": {
    "collapsed": false
   }
  },
  {
   "cell_type": "code",
   "execution_count": 36,
   "outputs": [
    {
     "name": "stdout",
     "output_type": "stream",
     "text": [
      "Sample sizes:\n",
      "\n",
      "Total: 3246\n",
      "Train sample: 1785, 0.5499075785582255\n",
      "0    0.454902\n",
      "2    0.284594\n",
      "1    0.260504\n",
      "Name: FTR, dtype: float64\n",
      "Validation sample: 971, 0.2991373998767714\n",
      "0    0.490216\n",
      "2    0.302781\n",
      "1    0.207003\n",
      "Name: FTR, dtype: float64\n",
      "Test sample: 490, 0.15095502156500307\n",
      "0    0.465306\n",
      "2    0.300000\n",
      "1    0.234694\n",
      "Name: FTR, dtype: float64\n"
     ]
    }
   ],
   "source": [
    "df_train = d_spl.get_valid_dataset(df_data)\n",
    "df_train = f_eng.stem_df(df_train)\n",
    "X_train, X_val, X_test, y_train, y_val, y_test = d_spl.split_data_by_time(df_train, var.columns_features_pr + var.columns_features_q, var.column_result, train_q=0.55, valid_q=0.30)\n",
    "vec = f_eng.create_count_vectorizer(df_train)"
   ],
   "metadata": {
    "collapsed": false
   }
  },
  {
   "cell_type": "markdown",
   "source": [
    "Случайный лес на количественных данных"
   ],
   "metadata": {
    "collapsed": false
   }
  },
  {
   "cell_type": "code",
   "execution_count": 37,
   "outputs": [
    {
     "data": {
      "text/plain": "<Figure size 432x288 with 2 Axes>",
      "image/png": "[encoded data removed]"
     },
     "metadata": {
      "needs_background": "light"
     },
     "output_type": "display_data"
    },
    {
     "name": "stdout",
     "output_type": "stream",
     "text": [
      "              precision    recall  f1-score   support\n",
      "\n",
      "    Home Win     0.5677    0.7544    0.6478       228\n",
      "        Draw     0.2857    0.1739    0.2162       115\n",
      "    Away Win     0.4530    0.3605    0.4015       147\n",
      "\n",
      "    accuracy                         0.5000       490\n",
      "   macro avg     0.4355    0.4296    0.4219       490\n",
      "weighted avg     0.4671    0.5000    0.4726       490\n",
      "\n",
      "RPS:  0.21172418367346937\n"
     ]
    }
   ],
   "source": [
    "rf_quantitative = md.train_basic_random_forest(X_train[var.columns_features_q], y_train)\n",
    "md.show_metrics(rf_quantitative, X_test[var.columns_features_q], y_test)"
   ],
   "metadata": {
    "collapsed": false
   }
  },
  {
   "cell_type": "markdown",
   "source": [
    "Случайный лес на текстовых данных со стеммингом"
   ],
   "metadata": {
    "collapsed": false
   }
  },
  {
   "cell_type": "code",
   "execution_count": 38,
   "outputs": [
    {
     "data": {
      "text/plain": "<Figure size 432x288 with 2 Axes>",
      "image/png": "[encoded data removed]"
     },
     "metadata": {
      "needs_background": "light"
     },
     "output_type": "display_data"
    },
    {
     "name": "stdout",
     "output_type": "stream",
     "text": [
      "              precision    recall  f1-score   support\n",
      "\n",
      "    Home Win     0.4879    0.8860    0.6293       228\n",
      "        Draw     0.3000    0.0522    0.0889       115\n",
      "    Away Win     0.3750    0.1429    0.2069       147\n",
      "\n",
      "    accuracy                         0.4673       490\n",
      "   macro avg     0.3876    0.3603    0.3084       490\n",
      "weighted avg     0.4099    0.4673    0.3757       490\n",
      "\n",
      "RPS:  0.22351679912211628\n"
     ]
    }
   ],
   "source": [
    "rf_previews = md.train_basic_random_forest(d_spl.apply_count_vectorizer(X_train[var.columns_features_pr], vec), y_train)\n",
    "md.show_metrics(rf_previews, d_spl.apply_count_vectorizer(X_test[var.columns_features_pr], vec), y_test)"
   ],
   "metadata": {
    "collapsed": false
   }
  },
  {
   "cell_type": "markdown",
   "source": [
    "Считаем предсказания на валидационной и тестовой выборке для обучения стекинга"
   ],
   "metadata": {
    "collapsed": false
   }
  },
  {
   "cell_type": "code",
   "execution_count": 42,
   "outputs": [],
   "source": [
    "y_quantitative_proba_val = rf_quantitative.predict_proba(X_val[var.columns_features_q])\n",
    "y_previews_proba_val = rf_previews.predict_proba(d_spl.apply_count_vectorizer(X_val[var.columns_features_pr], vec))\n",
    "X_proba_val = np.append(y_quantitative_proba_val, y_previews_proba_val, axis=1)\n",
    "\n",
    "y_quantitative_proba_test = rf_quantitative.predict_proba(X_test[var.columns_features_q])\n",
    "y_previews_proba_test = rf_previews.predict_proba(d_spl.apply_count_vectorizer(X_test[var.columns_features_pr], vec))\n",
    "X_proba_test = np.append(y_quantitative_proba_test, y_previews_proba_test, axis=1)"
   ],
   "metadata": {
    "collapsed": false
   }
  },
  {
   "cell_type": "code",
   "execution_count": 43,
   "outputs": [
    {
     "data": {
      "text/plain": "<Figure size 432x288 with 2 Axes>",
      "image/png": "[encoded data removed]"
     },
     "metadata": {
      "needs_background": "light"
     },
     "output_type": "display_data"
    },
    {
     "name": "stdout",
     "output_type": "stream",
     "text": [
      "              precision    recall  f1-score   support\n",
      "\n",
      "    Home Win     0.5385    0.7368    0.6222       228\n",
      "        Draw     0.2041    0.0870    0.1220       115\n",
      "    Away Win     0.4186    0.3673    0.3913       147\n",
      "\n",
      "    accuracy                         0.4735       490\n",
      "   macro avg     0.3870    0.3970    0.3785       490\n",
      "weighted avg     0.4240    0.4735    0.4355       490\n",
      "\n",
      "RPS:  0.2292411806405896\n"
     ]
    }
   ],
   "source": [
    "rf_stack = md.train_basic_random_forest(X_proba_val, y_val)\n",
    "md.show_metrics(rf_stack, X_proba_test, y_test)"
   ],
   "metadata": {
    "collapsed": false
   }
  }
 ],
 "metadata": {
  "kernelspec": {
   "display_name": "Python 3",
   "language": "python",
   "name": "python3"
  },
  "language_info": {
   "codemirror_mode": {
    "name": "ipython",
    "version": 2
   },
   "file_extension": ".py",
   "mimetype": "text/x-python",
   "name": "python",
   "nbconvert_exporter": "python",
   "pygments_lexer": "ipython2",
   "version": "2.7.6"
  }
 },
 "nbformat": 4,
 "nbformat_minor": 0
}
